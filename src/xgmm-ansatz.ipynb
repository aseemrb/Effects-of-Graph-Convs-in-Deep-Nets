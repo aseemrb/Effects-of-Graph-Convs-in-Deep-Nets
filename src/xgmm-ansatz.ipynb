{
 "cells": [
  {
   "cell_type": "code",
   "execution_count": 2,
   "id": "vietnamese-cologne",
   "metadata": {},
   "outputs": [],
   "source": [
    "import matplotlib.pyplot as plt\n",
    "import numpy as np\n",
    "import torch\n",
    "import torch.nn as nn\n",
    "import torch.linalg as linalg\n",
    "import torch_geometric.utils as utils\n",
    "from torch.distributions import Bernoulli, MultivariateNormal\n",
    "from itertools import product\n",
    "from torch.utils.data import Dataset, DataLoader\n",
    "torch.set_printoptions(precision=2,sci_mode=False, linewidth=200)"
   ]
  },
  {
   "cell_type": "markdown",
   "id": "expanded-worcester",
   "metadata": {},
   "source": [
    "## The XGMM synthetic data model"
   ]
  },
  {
   "cell_type": "code",
   "execution_count": 3,
   "id": "white-topic",
   "metadata": {},
   "outputs": [],
   "source": [
    "def XGMM(n_points, n_features, u, v, sig_sq):\n",
    "    X = torch.zeros((n_points, n_features))\n",
    "    y = torch.zeros(n_points)\n",
    "    # Decide class and cluster based on two independent Bernoullis.\n",
    "    eps = Bernoulli(torch.tensor([0.5]))\n",
    "    eta = Bernoulli(torch.tensor([0.5]))\n",
    "    for i in range(n_points):\n",
    "        mean = torch.randn(n_features)\n",
    "        y[i] = eps.sample()\n",
    "        cluster = eta.sample()\n",
    "        # Mean is -mu, mu, -nu or nu based on eps_i and eta_i.\n",
    "        mean = (2*cluster - 1)*((1-y[i])*u + y[i]*v)\n",
    "        if sig_sq > 0:\n",
    "            cov = torch.eye(n_features) * sig_sq\n",
    "            distr = MultivariateNormal(mean, cov)\n",
    "            X[i] = distr.sample()\n",
    "        else:\n",
    "            X[i] = mean\n",
    "    return X, y\n",
    "\n",
    "class XGMMDataset(Dataset):\n",
    "    def __init__(self, n_points, n_features, mu, nu, sig_sq):\n",
    "        self.inputs, self.labels = XGMM(n_points, n_features, mu, nu, sig_sq)\n",
    "\n",
    "    def __len__(self):\n",
    "        return len(self.labels)\n",
    "\n",
    "    def __getitem__(self, idx):\n",
    "        x = self.inputs[idx]\n",
    "        y = self.labels[idx]\n",
    "        return x, y\n",
    "    \n",
    "    def get_data(self):\n",
    "        return self.inputs, self.labels"
   ]
  },
  {
   "cell_type": "markdown",
   "id": "behavioral-virus",
   "metadata": {},
   "source": [
    "## 2-Layer MLP with Relu activation"
   ]
  },
  {
   "cell_type": "code",
   "execution_count": 4,
   "id": "accessory-insight",
   "metadata": {},
   "outputs": [],
   "source": [
    "class TwoNetReLU(torch.nn.Module):\n",
    "    def __init__(self, n_features, n_width):\n",
    "        super(TwoNetReLU, self).__init__()\n",
    "        layer1 = torch.nn.Linear(n_features, n_width, bias=False)\n",
    "        layer2 = torch.nn.Linear(n_width, 1, bias=False)\n",
    "        self.model = torch.nn.Sequential(layer1, torch.nn.ReLU(), layer2)\n",
    "\n",
    "    def forward(self, x):\n",
    "        x = self.model(x)\n",
    "        output = torch.sigmoid(x)\n",
    "        output = torch.squeeze(output, dim=1)\n",
    "        return output"
   ]
  },
  {
   "cell_type": "code",
   "execution_count": 35,
   "id": "supported-machinery",
   "metadata": {},
   "outputs": [
    {
     "name": "stdout",
     "output_type": "stream",
     "text": [
      "n_points: 2000\n",
      "n_features: 200\n"
     ]
    }
   ],
   "source": [
    "n_points = 2000\n",
    "n_features = 200\n",
    "print(\"n_points:\", n_points)\n",
    "print(\"n_features:\", n_features)\n",
    "\n",
    "# Fix the variance to 1/n_features.\n",
    "sig_sq = 1.0/n_features\n",
    "sig = np.sqrt(sig_sq)\n",
    "\n",
    "# mean_scale = K, where norm(u-v) = K*sigma.\n",
    "mean_scale = np.linspace(0, 2*np.log(n_points), num=50)\n",
    "datasets = {}\n",
    "means = {}\n",
    "for K in mean_scale:\n",
    "    # We want norm(u-v) = K*sigma\n",
    "    u = torch.rand(n_features) # First mean.\n",
    "    # u[-1] = torch.abs(1) # To prevent division by 0.\n",
    "    u /= linalg.norm(u)\n",
    "    v = u.clone() # Second mean.\n",
    "    v[-1] = -(u[:-1] @ v[:-1]) / u[-1] # Make v orthogonal to u.\n",
    "    v /= linalg.norm(v)\n",
    "    means[K] = [u, v]\n",
    "\n",
    "    # Make K = norm(u-v) = sqrt(2)*norm(u).\n",
    "    K_ = K/np.sqrt(2.0)\n",
    "    u_ = K_*u\n",
    "    v_ = K_*v\n",
    "\n",
    "    datasets[K] = XGMMDataset(n_points, n_features, u_, v_, sig_sq)"
   ]
  },
  {
   "cell_type": "code",
   "execution_count": 36,
   "id": "descending-ready",
   "metadata": {},
   "outputs": [
    {
     "name": "stdout",
     "output_type": "stream",
     "text": [
      "Using device: cpu\n"
     ]
    }
   ],
   "source": [
    "device = torch.device(\"cuda\" if torch.cuda.is_available() else \"cpu\")\n",
    "print('Using device:', device)\n",
    "n_width = 4 # Fix architecture to only networks with 4 hidden neurons.\n",
    "R = 1 # Optimization constraint.\n",
    "\n",
    "loss_fn = nn.BCELoss()\n",
    "loss_vals = []\n",
    "\n",
    "for K in mean_scale:\n",
    "    u, v = means[K]\n",
    "    # Create the ansatz for this data distribution (based on u, v).\n",
    "    model = TwoNetReLU(n_features, n_width)\n",
    "    model.eval()\n",
    "    params = [param for param in model.parameters()]\n",
    "    params[0].data = torch.stack([u, -u, v, -v], dim=0)\n",
    "    params[1].data = R*torch.tensor([[-1.0, -1.0, 1.0, 1.0]])\n",
    "\n",
    "    # Test on the generated dataset.\n",
    "    X, y = datasets[K].get_data()\n",
    "    pred = model(X)\n",
    "    loss = loss_fn(pred, y)\n",
    "    loss_vals.append(loss.item())"
   ]
  },
  {
   "cell_type": "code",
   "execution_count": 34,
   "id": "38d69bea-4308-4f8a-8ca0-5c8b3e4f82ab",
   "metadata": {},
   "outputs": [
    {
     "data": {
      "text/plain": [
       "<matplotlib.legend.Legend at 0x7fdf0192b220>"
      ]
     },
     "execution_count": 34,
     "metadata": {},
     "output_type": "execute_result"
    },
    {
     "data": {
      "image/png": "[encoded data removed]",
      "text/plain": [
       "<Figure size 720x360 with 1 Axes>"
      ]
     },
     "metadata": {},
     "output_type": "display_data"
    }
   ],
   "source": [
    "fig = plt.figure(figsize=(10,5), facecolor=[1,1,1])\n",
    "ax = plt.axes()\n",
    "# plt.yscale('log')\n",
    "ax.plot(mean_scale, loss_vals, linewidth=2, linestyle= '-', marker='', markersize=20, label='CE Loss')\n",
    "ax.axvline(x=np.log(n_points), color='red', linewidth=4, linestyle='-.', alpha=0.5, label=r'$\\log(n)$')\n",
    "ax.axvline(x=np.sqrt(np.log(n_points)), color='green', linewidth=4, linestyle='-.', alpha=0.5, label=r'$\\sqrt{\\log(n)}$')\n",
    "ax.set_xlabel(r'$K: \\Vert u-v \\Vert_2 = K\\sigma$', fontsize=18)\n",
    "ax.set_ylabel(r'Loss: $\\ell(X,\\theta)$', fontsize=18)\n",
    "ax.legend()"
   ]
  },
  {
   "cell_type": "code",
   "execution_count": null,
   "id": "3d90c462-e361-4eb3-8d24-561d472e5689",
   "metadata": {},
   "outputs": [],
   "source": []
  }
 ],
 "metadata": {
  "kernelspec": {
   "display_name": "Python 3 (ipykernel)",
   "language": "python",
   "name": "python3"
  },
  "language_info": {
   "codemirror_mode": {
    "name": "ipython",
    "version": 3
   },
   "file_extension": ".py",
   "mimetype": "text/x-python",
   "name": "python",
   "nbconvert_exporter": "python",
   "pygments_lexer": "ipython3",
   "version": "3.8.12"
  }
 },
 "nbformat": 4,
 "nbformat_minor": 5
}
